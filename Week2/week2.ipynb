{
 "cells": [
  {
   "cell_type": "markdown",
   "metadata": {},
   "source": [
    "# Week 2\n",
    "## Assignment Hello Graph World\n",
    "### By Forhad Akbar"
   ]
  },
  {
   "cell_type": "code",
   "execution_count": 15,
   "metadata": {},
   "outputs": [],
   "source": [
    "#Import Package\n",
    "import networkx as nx\n",
    "import matplotlib.pyplot as plt"
   ]
  },
  {
   "cell_type": "markdown",
   "metadata": {},
   "source": [
    "I will use networkx and matplotlib to draw and show the graph."
   ]
  },
  {
   "cell_type": "markdown",
   "metadata": {},
   "source": [
    "## Create an empty graph"
   ]
  },
  {
   "cell_type": "code",
   "execution_count": 16,
   "metadata": {},
   "outputs": [],
   "source": [
    "g = nx.Graph()"
   ]
  },
  {
   "cell_type": "markdown",
   "metadata": {},
   "source": [
    "## Creat Edges"
   ]
  },
  {
   "cell_type": "code",
   "execution_count": 17,
   "metadata": {},
   "outputs": [],
   "source": [
    "g.add_edge(\"Andre\", \"Carol\")\n",
    "g.add_edge(\"Andre\", \"Diane\")\n",
    "g.add_edge(\"Andre\", \"Beverly\")\n",
    "\n",
    "g.add_edge(\"Carol\", \"Andre\")\n",
    "g.add_edge(\"Carol\", \"Diane\")\n",
    "g.add_edge(\"Carol\", \"Fernando\")\n",
    "\n",
    "g.add_edge(\"Beverly\", \"Andre\")\n",
    "g.add_edge(\"Beverly\", \"Diane\")\n",
    "g.add_edge(\"Beverly\", \"Ed\")\n",
    "\n",
    "g.add_edge(\"Fernando\", \"Garth\")\n",
    "g.add_edge(\"Fernando\", \"Diane\")\n",
    "g.add_edge(\"Fernando\", \"Carol\")\n",
    "\n",
    "g.add_edge(\"Garth\", \"Ed\")\n",
    "g.add_edge(\"Garth\", \"Diane\")\n",
    "g.add_edge(\"Garth\", \"Fernando\")\n",
    "g.add_edge(\"Garth\", \"Heather\")\n",
    "\n",
    "g.add_edge(\"Ed\", \"Beverly\")\n",
    "g.add_edge(\"Ed\", \"Diane\")\n",
    "g.add_edge(\"Ed\", \"Garth\")\n",
    "\n",
    "g.add_edge(\"Heather\", \"Fernando\")\n",
    "g.add_edge(\"Heather\", \"Garth\")\n",
    "g.add_edge(\"Heather\", \"Ike\")\n",
    "\n",
    "\n",
    "g.add_edge(\"Ike\", \"Heather\")\n",
    "g.add_edge(\"Ike\", \"Jane\")\n",
    "\n",
    "\n",
    "g.add_edge(\"Jane\", \"Ike\")\n",
    "g.add_edge(\"Andre\",  \"Fernando\")\n",
    "g.add_edge(\"Beverly\",  \"Garth\")\n",
    "\n"
   ]
  },
  {
   "cell_type": "markdown",
   "metadata": {},
   "source": [
    "## Create Positions"
   ]
  },
  {
   "cell_type": "code",
   "execution_count": 18,
   "metadata": {},
   "outputs": [],
   "source": [
    "nodes = {\"Andre\":(0, 1), \n",
    "     \"Beverly\":(0, -1), \n",
    "     \"Carol\":(1, 2), \n",
    "     \"Diane\":(1, 0), \n",
    "     \"Ed\":(1, -2), \n",
    "     \"Ike\":(4, 0), \n",
    "     \"Garth\":(2, -1), \n",
    "     \"Jane\":(5, 0),\n",
    "     \"Fernando\":(2, 1), \n",
    "     \"Heather\":(3, 0)}"
   ]
  },
  {
   "cell_type": "markdown",
   "metadata": {},
   "source": [
    "## Draw the graph"
   ]
  },
  {
   "cell_type": "code",
   "execution_count": 21,
   "metadata": {
    "scrolled": true
   },
   "outputs": [
    {
     "data": {
      "text/plain": [
       "{'Andre': Text(0, 1, 'Andre'),\n",
       " 'Carol': Text(1, 2, 'Carol'),\n",
       " 'Diane': Text(1, 0, 'Diane'),\n",
       " 'Beverly': Text(0, -1, 'Beverly'),\n",
       " 'Fernando': Text(2, 1, 'Fernando'),\n",
       " 'Ed': Text(1, -2, 'Ed'),\n",
       " 'Garth': Text(2, -1, 'Garth'),\n",
       " 'Heather': Text(3, 0, 'Heather'),\n",
       " 'Ike': Text(4, 0, 'Ike'),\n",
       " 'Jane': Text(5, 0, 'Jane')}"
      ]
     },
     "execution_count": 21,
     "metadata": {},
     "output_type": "execute_result"
    },
    {
     "data": {
      "image/png": "[encoded data removed]",
      "text/plain": [
       "<Figure size 432x288 with 1 Axes>"
      ]
     },
     "metadata": {},
     "output_type": "display_data"
    }
   ],
   "source": [
    "nx.draw_networkx_nodes(g, nodes,node_size = 1000, node_color = \"Green\")\n",
    "nx.draw_networkx_edges(g, nodes, width = 3, edge_color = \"Purple\")\n",
    "nx.draw_networkx_labels(g,nodes) "
   ]
  }
 ],
 "metadata": {
  "kernelspec": {
   "display_name": "Python 3",
   "language": "python",
   "name": "python3"
  },
  "language_info": {
   "codemirror_mode": {
    "name": "ipython",
    "version": 3
   },
   "file_extension": ".py",
   "mimetype": "text/x-python",
   "name": "python",
   "nbconvert_exporter": "python",
   "pygments_lexer": "ipython3",
   "version": "3.8.5"
  }
 },
 "nbformat": 4,
 "nbformat_minor": 4
}
