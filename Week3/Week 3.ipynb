{
 "cells": [
  {
   "cell_type": "markdown",
   "metadata": {},
   "source": [
    "# WEEK 3 ASSIGNMENT - GRAPH VISUALIZATION"
   ]
  },
  {
   "cell_type": "markdown",
   "metadata": {},
   "source": [
    "**GROUP: Forhad Akbar, Adam Douglas, and Soumya Ghosh**"
   ]
  },
  {
   "cell_type": "markdown",
   "metadata": {},
   "source": [
    "The purpose of this assignment is to retreive network data from a source, build a graph object of that data, then perform a basic analysis of that graph.\n",
    "\n",
    "For this assignment, we used the \"Reddit Pizza Requests\" data from the Stanford SNAP website$^1$. This data set is a list of requests made by Reddit users for free pizza."
   ]
  },
  {
   "cell_type": "code",
   "execution_count": 51,
   "metadata": {},
   "outputs": [],
   "source": [
    "# Import necessary packages\n",
    "import json\n",
    "import networkx as nx\n",
    "from pyvis import network as net\n",
    "import matplotlib.pyplot as plt"
   ]
  },
  {
   "cell_type": "code",
   "execution_count": 52,
   "metadata": {},
   "outputs": [],
   "source": [
    "# Load the raw data\n",
    "f = open(\"pizza_request_dataset.json\", \"r\")\n",
    "content = f.read()\n",
    "\n",
    "# Parse the JSON\n",
    "raw = json.loads(content)"
   ]
  },
  {
   "cell_type": "code",
   "execution_count": 53,
   "metadata": {},
   "outputs": [
    {
     "data": {
      "text/plain": [
       "5671"
      ]
     },
     "execution_count": 53,
     "metadata": {},
     "output_type": "execute_result"
    }
   ],
   "source": [
    "len(raw)"
   ]
  },
  {
   "cell_type": "markdown",
   "metadata": {},
   "source": [
    "The dataset contains a large number of requests. For this exercise, we will only include a small sample of requests, and limit to those requests in which the requester actually received pizza and where we know the user name of the person who provided the pizza.\n",
    "\n",
    "Let's look at the format of each request:"
   ]
  },
  {
   "cell_type": "code",
   "execution_count": 54,
   "metadata": {},
   "outputs": [
    {
     "data": {
      "text/plain": [
       "{'giver_username_if_known': 'N/A',\n",
       " 'in_test_set': False,\n",
       " 'number_of_downvotes_of_request_at_retrieval': 2,\n",
       " 'number_of_upvotes_of_request_at_retrieval': 6,\n",
       " 'post_was_edited': True,\n",
       " 'request_id': 't3_qysgy',\n",
       " 'request_number_of_comments_at_retrieval': 8,\n",
       " 'request_text': \"Hello! It's been a hard 2 months with money and I listed some goodies on craigslist so I could make some food money for my family and the people never showed up =(  The cupboards are empty, no bread or P&amp;J. Is there anyone that wouldn't mind helping me out tonight? My family would appreciate it so very much. Thank you for your time in reading our plea. \\n\\nEdit: Tarn33 Came to are rescue and soon my family will be enjoying some much needed pizza!\",\n",
       " 'request_text_edit_aware': \"Hello! It's been a hard 2 months with money and I listed some goodies on craigslist so I could make some food money for my family and the people never showed up =(  The cupboards are empty, no bread or P&amp;J. Is there anyone that wouldn't mind helping me out tonight? My family would appreciate it so very much. Thank you for your time in reading our plea. \\n\\nEdit: Tarn33 Came to are rescue and soon my family will be enjoying some much needed pizza!\",\n",
       " 'request_title': '[REQUEST] Southern Arizona, Tucson Hungry Family',\n",
       " 'requester_account_age_in_days_at_request': 11.957060185185185,\n",
       " 'requester_account_age_in_days_at_retrieval': 642.198125,\n",
       " 'requester_days_since_first_post_on_raop_at_request': 0.0,\n",
       " 'requester_days_since_first_post_on_raop_at_retrieval': 630.1993981481481,\n",
       " 'requester_number_of_comments_at_request': 2,\n",
       " 'requester_number_of_comments_at_retrieval': 12,\n",
       " 'requester_number_of_comments_in_raop_at_request': 0,\n",
       " 'requester_number_of_comments_in_raop_at_retrieval': 6,\n",
       " 'requester_number_of_posts_at_request': 0,\n",
       " 'requester_number_of_posts_at_retrieval': 3,\n",
       " 'requester_number_of_posts_on_raop_at_request': 0,\n",
       " 'requester_number_of_posts_on_raop_at_retrieval': 3,\n",
       " 'requester_number_of_subreddits_at_request': 2,\n",
       " 'requester_received_pizza': True,\n",
       " 'requester_subreddits_at_request': ['aww', 'pics'],\n",
       " 'requester_upvotes_minus_downvotes_at_request': 5,\n",
       " 'requester_upvotes_minus_downvotes_at_retrieval': 21,\n",
       " 'requester_upvotes_plus_downvotes_at_request': 13,\n",
       " 'requester_upvotes_plus_downvotes_at_retrieval': 57,\n",
       " 'requester_user_flair': 'shroom',\n",
       " 'requester_username': 'blubirdhvn',\n",
       " 'unix_timestamp_of_request': 1331868375.0,\n",
       " 'unix_timestamp_of_request_utc': 1331864775.0}"
      ]
     },
     "execution_count": 54,
     "metadata": {},
     "output_type": "execute_result"
    }
   ],
   "source": [
    "raw[1]"
   ]
  },
  {
   "cell_type": "markdown",
   "metadata": {},
   "source": [
    "Each request is a `dictionary`. The fields we will want to utilize are: `'requester_username'`,`'giver_username_if_known'`, and `'requester_received_pizza'`.\n",
    "\n",
    "Next we will filter the raw data to a more reasonable record count:"
   ]
  },
  {
   "cell_type": "code",
   "execution_count": 55,
   "metadata": {},
   "outputs": [
    {
     "data": {
      "text/plain": [
       "40"
      ]
     },
     "execution_count": 55,
     "metadata": {},
     "output_type": "execute_result"
    }
   ],
   "source": [
    "dataset = list(req for req in raw if req['requester_received_pizza']==True\n",
    "               and req['giver_username_if_known'] != 'N/A')[:40]\n",
    "len(dataset)"
   ]
  },
  {
   "cell_type": "markdown",
   "metadata": {},
   "source": [
    "Next, we will extract the unique user names for both requesters and those who gave the pizza. These will become our nodes."
   ]
  },
  {
   "cell_type": "code",
   "execution_count": 56,
   "metadata": {},
   "outputs": [
    {
     "name": "stdout",
     "output_type": "stream",
     "text": [
      "There are 40 requesters and 39 users who gave them pizza.\n"
     ]
    }
   ],
   "source": [
    "requesters = list(set(r['requester_username'] for r in dataset))\n",
    "givers = list(set(g['giver_username_if_known'] for g in dataset))\n",
    "\n",
    "num_req = len(requesters)\n",
    "num_givers = len(givers)\n",
    "\n",
    "print(\"There are \" + str(num_req) + \" requesters and \" + str(num_givers) + \" users who gave them pizza.\")"
   ]
  },
  {
   "cell_type": "markdown",
   "metadata": {},
   "source": [
    "Now we will find our edges. Since this is a directed graph (someone gave someone else pizza, but not necessarily vice-versa), we need to make sure the order is coded properly."
   ]
  },
  {
   "cell_type": "code",
   "execution_count": 57,
   "metadata": {},
   "outputs": [],
   "source": [
    "edges = list((e['giver_username_if_known'],e['requester_username']) for e in dataset)"
   ]
  },
  {
   "cell_type": "code",
   "execution_count": 58,
   "metadata": {},
   "outputs": [],
   "source": [
    "# Initialize the graph object\n",
    "pizza = nx.DiGraph()"
   ]
  },
  {
   "cell_type": "code",
   "execution_count": 59,
   "metadata": {},
   "outputs": [],
   "source": [
    "# Add our nodes and edges\n",
    "pizza.add_nodes_from(requesters)\n",
    "pizza.add_nodes_from(givers)\n",
    "pizza.add_edges_from(edges)"
   ]
  },
  {
   "cell_type": "code",
   "execution_count": 60,
   "metadata": {},
   "outputs": [
    {
     "data": {
      "image/png": "[encoded data removed]",
      "text/plain": [
       "<Figure size 432x288 with 1 Axes>"
      ]
     },
     "metadata": {},
     "output_type": "display_data"
    }
   ],
   "source": [
    "# Plot the graph\n",
    "nx.draw(pizza, with_labels=True, node_color=\"#f5cb42\")\n",
    "plt.show()"
   ]
  },
  {
   "cell_type": "markdown",
   "metadata": {},
   "source": [
    "We can see from our number of requesters and givers that most users sent pizza to a single user. Only one user gave to more than one request in our (small) dataset. Let's see who that was:"
   ]
  },
  {
   "cell_type": "code",
   "execution_count": 61,
   "metadata": {},
   "outputs": [
    {
     "name": "stdout",
     "output_type": "stream",
     "text": [
      "mr_jeep gave 2 pizzas\n"
     ]
    }
   ],
   "source": [
    "for k, v in nx.degree(pizza):\n",
    "    if v > 1:\n",
    "        print(str(k) + ' gave ' + str(v) + ' pizzas')"
   ]
  },
  {
   "cell_type": "code",
   "execution_count": 62,
   "metadata": {},
   "outputs": [
    {
     "ename": "NetworkXError",
     "evalue": "Found infinite path length because the digraph is not strongly connected",
     "output_type": "error",
     "traceback": [
      "\u001b[1;31m---------------------------------------------------------------------------\u001b[0m",
      "\u001b[1;31mNetworkXError\u001b[0m                             Traceback (most recent call last)",
      "\u001b[1;32m<ipython-input-62-d9676afc8be0>\u001b[0m in \u001b[0;36m<module>\u001b[1;34m\u001b[0m\n\u001b[1;32m----> 1\u001b[1;33m \u001b[0mnx\u001b[0m\u001b[1;33m.\u001b[0m\u001b[0mdiameter\u001b[0m\u001b[1;33m(\u001b[0m\u001b[0mpizza\u001b[0m\u001b[1;33m)\u001b[0m\u001b[1;33m\u001b[0m\u001b[1;33m\u001b[0m\u001b[0m\n\u001b[0m",
      "\u001b[1;32m~\\anaconda3\\lib\\site-packages\\networkx\\algorithms\\distance_measures.py\u001b[0m in \u001b[0;36mdiameter\u001b[1;34m(G, e, usebounds)\u001b[0m\n\u001b[0;32m    297\u001b[0m         \u001b[1;32mreturn\u001b[0m \u001b[0mextrema_bounding\u001b[0m\u001b[1;33m(\u001b[0m\u001b[0mG\u001b[0m\u001b[1;33m,\u001b[0m \u001b[0mcompute\u001b[0m\u001b[1;33m=\u001b[0m\u001b[1;34m\"diameter\"\u001b[0m\u001b[1;33m)\u001b[0m\u001b[1;33m\u001b[0m\u001b[1;33m\u001b[0m\u001b[0m\n\u001b[0;32m    298\u001b[0m     \u001b[1;32mif\u001b[0m \u001b[0me\u001b[0m \u001b[1;32mis\u001b[0m \u001b[1;32mNone\u001b[0m\u001b[1;33m:\u001b[0m\u001b[1;33m\u001b[0m\u001b[1;33m\u001b[0m\u001b[0m\n\u001b[1;32m--> 299\u001b[1;33m         \u001b[0me\u001b[0m \u001b[1;33m=\u001b[0m \u001b[0meccentricity\u001b[0m\u001b[1;33m(\u001b[0m\u001b[0mG\u001b[0m\u001b[1;33m)\u001b[0m\u001b[1;33m\u001b[0m\u001b[1;33m\u001b[0m\u001b[0m\n\u001b[0m\u001b[0;32m    300\u001b[0m     \u001b[1;32mreturn\u001b[0m \u001b[0mmax\u001b[0m\u001b[1;33m(\u001b[0m\u001b[0me\u001b[0m\u001b[1;33m.\u001b[0m\u001b[0mvalues\u001b[0m\u001b[1;33m(\u001b[0m\u001b[1;33m)\u001b[0m\u001b[1;33m)\u001b[0m\u001b[1;33m\u001b[0m\u001b[1;33m\u001b[0m\u001b[0m\n\u001b[0;32m    301\u001b[0m \u001b[1;33m\u001b[0m\u001b[0m\n",
      "\u001b[1;32m~\\anaconda3\\lib\\site-packages\\networkx\\algorithms\\distance_measures.py\u001b[0m in \u001b[0;36meccentricity\u001b[1;34m(G, v, sp)\u001b[0m\n\u001b[0;32m    262\u001b[0m             \u001b[1;32melse\u001b[0m\u001b[1;33m:\u001b[0m\u001b[1;33m\u001b[0m\u001b[1;33m\u001b[0m\u001b[0m\n\u001b[0;32m    263\u001b[0m                 \u001b[0mmsg\u001b[0m \u001b[1;33m=\u001b[0m \u001b[1;34m\"Found infinite path length because the graph is not\"\u001b[0m \u001b[1;34m\" connected\"\u001b[0m\u001b[1;33m\u001b[0m\u001b[1;33m\u001b[0m\u001b[0m\n\u001b[1;32m--> 264\u001b[1;33m             \u001b[1;32mraise\u001b[0m \u001b[0mnx\u001b[0m\u001b[1;33m.\u001b[0m\u001b[0mNetworkXError\u001b[0m\u001b[1;33m(\u001b[0m\u001b[0mmsg\u001b[0m\u001b[1;33m)\u001b[0m\u001b[1;33m\u001b[0m\u001b[1;33m\u001b[0m\u001b[0m\n\u001b[0m\u001b[0;32m    265\u001b[0m \u001b[1;33m\u001b[0m\u001b[0m\n\u001b[0;32m    266\u001b[0m         \u001b[0me\u001b[0m\u001b[1;33m[\u001b[0m\u001b[0mn\u001b[0m\u001b[1;33m]\u001b[0m \u001b[1;33m=\u001b[0m \u001b[0mmax\u001b[0m\u001b[1;33m(\u001b[0m\u001b[0mlength\u001b[0m\u001b[1;33m.\u001b[0m\u001b[0mvalues\u001b[0m\u001b[1;33m(\u001b[0m\u001b[1;33m)\u001b[0m\u001b[1;33m)\u001b[0m\u001b[1;33m\u001b[0m\u001b[1;33m\u001b[0m\u001b[0m\n",
      "\u001b[1;31mNetworkXError\u001b[0m: Found infinite path length because the digraph is not strongly connected"
     ]
    }
   ],
   "source": [
    "nx.diameter(pizza)"
   ]
  },
  {
   "cell_type": "markdown",
   "metadata": {},
   "source": [
    "We are not able to get diameter of the graph as it's is not connected. We will try another data set at this point."
   ]
  },
  {
   "cell_type": "markdown",
   "metadata": {},
   "source": [
    "### Works Cited"
   ]
  },
  {
   "cell_type": "markdown",
   "metadata": {},
   "source": [
    " 1 - https://snap.stanford.edu/data/web-RedditPizzaRequests.html"
   ]
  },
  {
   "cell_type": "markdown",
   "metadata": {},
   "source": [
    "# Adjnoun.gml data base"
   ]
  },
  {
   "cell_type": "markdown",
   "metadata": {},
   "source": [
    "The file adjnoun.gml contains the network of common adjective and noun\n",
    "adjacencies for the novel \"David Copperfield\" by Charles Dickens, as\n",
    "described by M. Newman.  Nodes represent the most commonly occurring\n",
    "adjectives and nouns in the book.  Node values are 0 for adjectives and 1\n",
    "for nouns.  Edges connect any pair of words that occur in adjacent position\n",
    "in the text of the book.  Please cite M. E. J. Newman, Finding community\n",
    "structure in networks using the eigenvectors of matrices, Preprint\n",
    "physics/0605087 (2006).\n",
    "\n",
    "Source: http://networkdata.ics.uci.edu/data/adjnoun/"
   ]
  },
  {
   "cell_type": "code",
   "execution_count": 63,
   "metadata": {},
   "outputs": [
    {
     "name": "stdout",
     "output_type": "stream",
     "text": [
      "Name: \n",
      "Type: Graph\n",
      "Number of nodes: 112\n",
      "Number of edges: 425\n",
      "Average degree:   7.5893\n"
     ]
    }
   ],
   "source": [
    "#load data\n",
    "data = 'adjnoun.gml'\n",
    "g = nx.read_gml(data)\n",
    "\n",
    "#Print the info\n",
    "print(nx.info(g))\n"
   ]
  },
  {
   "cell_type": "code",
   "execution_count": 64,
   "metadata": {},
   "outputs": [
    {
     "name": "stdout",
     "output_type": "stream",
     "text": [
      "\n",
      "Graph Diameter: 5\n"
     ]
    }
   ],
   "source": [
    "# Print diameter\n",
    "print('\\nGraph Diameter:', nx.diameter(g)) "
   ]
  },
  {
   "cell_type": "markdown",
   "metadata": {},
   "source": [
    "# Word Graph"
   ]
  },
  {
   "cell_type": "code",
   "execution_count": 65,
   "metadata": {},
   "outputs": [
    {
     "data": {
      "text/html": [
       "\n",
       "        <iframe\n",
       "            width=\"100%\"\n",
       "            height=\"800px\"\n",
       "            src=\"graph.html\"\n",
       "            frameborder=\"0\"\n",
       "            allowfullscreen\n",
       "        ></iframe>\n",
       "        "
      ],
      "text/plain": [
       "<IPython.lib.display.IFrame at 0x16bde2d3310>"
      ]
     },
     "execution_count": 65,
     "metadata": {},
     "output_type": "execute_result"
    }
   ],
   "source": [
    "n = net.Network(height = \"800px\", width = \"100%\", notebook = True)\n",
    "nx_graph = nx.Graph(g)\n",
    "n.from_nx(nx_graph)\n",
    "n.show(\"graph.html\")"
   ]
  },
  {
   "cell_type": "markdown",
   "metadata": {},
   "source": [
    "## Number of neighbors connected"
   ]
  },
  {
   "cell_type": "code",
   "execution_count": 66,
   "metadata": {},
   "outputs": [
    {
     "name": "stdout",
     "output_type": "stream",
     "text": [
      "agreeable: 3\n",
      "man: 14\n",
      "old: 33\n",
      "person: 9\n",
      "anything: 2\n",
      "short: 7\n",
      "arm: 6\n",
      "round: 11\n",
      "aunt: 1\n",
      "first: 17\n",
      "bad: 4\n",
      "air: 7\n",
      "boy: 10\n",
      "beautiful: 6\n",
      "black: 12\n",
      "face: 12\n",
      "letter: 3\n",
      "little: 49\n",
      "young: 14\n",
      "best: 9\n",
      "course: 5\n",
      "friend: 10\n",
      "love: 5\n",
      "part: 8\n",
      "room: 15\n",
      "thing: 14\n",
      "time: 11\n",
      "way: 15\n",
      "better: 13\n",
      "heart: 5\n",
      "mind: 6\n",
      "place: 12\n",
      "right: 10\n",
      "state: 5\n",
      "woman: 7\n",
      "word: 6\n",
      "door: 7\n",
      "eye: 10\n",
      "bright: 9\n",
      "evening: 5\n",
      "morning: 4\n",
      "certain: 8\n",
      "day: 7\n",
      "other: 28\n",
      "child: 7\n",
      "happy: 6\n",
      "common: 3\n",
      "dark: 5\n",
      "kind: 10\n",
      "night: 5\n",
      "dear: 15\n",
      "good: 28\n",
      "home: 7\n",
      "mother: 6\n",
      "pretty: 13\n",
      "open: 3\n",
      "early: 4\n",
      "fire: 3\n",
      "full: 2\n",
      "great: 13\n",
      "master: 5\n",
      "moment: 2\n",
      "work: 2\n",
      "general: 5\n",
      "fancy: 1\n",
      "voice: 6\n",
      "head: 7\n",
      "hope: 4\n",
      "long: 12\n",
      "greater: 2\n",
      "hand: 12\n",
      "hard: 6\n",
      "red: 7\n",
      "life: 7\n",
      "glad: 1\n",
      "large: 10\n",
      "new: 12\n",
      "white: 3\n",
      "late: 3\n",
      "whole: 13\n",
      "light: 8\n",
      "manner: 6\n",
      "bed: 1\n",
      "house: 5\n",
      "low: 6\n",
      "money: 2\n",
      "ready: 2\n",
      "small: 10\n",
      "strange: 6\n",
      "thought: 7\n",
      "lost: 1\n",
      "alone: 1\n",
      "nothing: 6\n",
      "miserable: 2\n",
      "natural: 3\n",
      "half: 1\n",
      "wrong: 3\n",
      "name: 1\n",
      "pleasant: 5\n",
      "possible: 2\n",
      "side: 3\n",
      "perfect: 2\n",
      "poor: 10\n",
      "quiet: 9\n",
      "same: 21\n",
      "strong: 7\n",
      "something: 6\n",
      "true: 2\n",
      "usual: 4\n",
      "family: 1\n",
      "world: 2\n",
      "year: 1\n"
     ]
    }
   ],
   "source": [
    "for n in g.nodes():\n",
    "    print (n + ': ' + str(len(list(g.neighbors(n)))))\n",
    "    \n",
    "    "
   ]
  },
  {
   "cell_type": "markdown",
   "metadata": {},
   "source": [
    "The word \"little\" has higest 49 neighbours in the novel David Copperfield."
   ]
  },
  {
   "cell_type": "markdown",
   "metadata": {},
   "source": [
    "# Centrality\n",
    "\n",
    "Source: https://networkx.org/documentation/stable/reference/algorithms/centrality.html"
   ]
  },
  {
   "cell_type": "markdown",
   "metadata": {},
   "source": [
    "### Degree centrality: \n",
    "Compute the degree centrality for nodes.The degree centrality values are normalized by dividing by the maximum possible degree in a simple graph n-1 where n is the number of nodes in G."
   ]
  },
  {
   "cell_type": "code",
   "execution_count": 67,
   "metadata": {},
   "outputs": [
    {
     "data": {
      "text/plain": [
       "[('little', 0.44144144144144143),\n",
       " ('old', 0.2972972972972973),\n",
       " ('other', 0.25225225225225223),\n",
       " ('good', 0.25225225225225223),\n",
       " ('same', 0.1891891891891892),\n",
       " ('first', 0.15315315315315314),\n",
       " ('room', 0.13513513513513514),\n",
       " ('way', 0.13513513513513514),\n",
       " ('dear', 0.13513513513513514),\n",
       " ('man', 0.12612612612612611)]"
      ]
     },
     "execution_count": 67,
     "metadata": {},
     "output_type": "execute_result"
    }
   ],
   "source": [
    "degree_list = list(nx.degree_centrality(g).items())\n",
    "\n",
    "# Get top 10 \n",
    "sorted(degree_list, key = lambda x: x[1], reverse = True)[:10]"
   ]
  },
  {
   "cell_type": "code",
   "execution_count": 68,
   "metadata": {},
   "outputs": [
    {
     "data": {
      "text/plain": [
       "0.44144144144144143"
      ]
     },
     "execution_count": 68,
     "metadata": {},
     "output_type": "execute_result"
    }
   ],
   "source": [
    "max(list(nx.degree_centrality(g).values()))"
   ]
  },
  {
   "cell_type": "markdown",
   "metadata": {},
   "source": [
    "The word \"litte\" has the maximum degree of centrality."
   ]
  },
  {
   "cell_type": "markdown",
   "metadata": {},
   "source": [
    "### Closeness centrality: \n",
    "The closeness centrality is normalized to (n-1)/(|G|-1) where n is the number of nodes in the connected part of graph containing the node. If the graph is not completely connected, this algorithm computes the closeness centrality for each connected part separately."
   ]
  },
  {
   "cell_type": "code",
   "execution_count": 69,
   "metadata": {},
   "outputs": [
    {
     "data": {
      "text/plain": [
       "[('little', 0.6166666666666667),\n",
       " ('old', 0.5467980295566502),\n",
       " ('good', 0.5260663507109005),\n",
       " ('other', 0.511520737327189),\n",
       " ('way', 0.4889867841409692),\n",
       " ('same', 0.4889867841409692),\n",
       " ('first', 0.4847161572052402),\n",
       " ('time', 0.4826086956521739),\n",
       " ('room', 0.47844827586206895),\n",
       " ('thing', 0.47639484978540775)]"
      ]
     },
     "execution_count": 69,
     "metadata": {},
     "output_type": "execute_result"
    }
   ],
   "source": [
    "closeness_list = list(nx.closeness_centrality(g).items())\n",
    "# Get top 10 \n",
    "sorted(closeness_list, key = lambda x: x[1], reverse = True)[:10]"
   ]
  },
  {
   "cell_type": "markdown",
   "metadata": {},
   "source": [
    "Again, The word \"litte\" has the maximum Closeness centrality."
   ]
  }
 ],
 "metadata": {
  "kernelspec": {
   "display_name": "Python 3",
   "language": "python",
   "name": "python3"
  },
  "language_info": {
   "codemirror_mode": {
    "name": "ipython",
    "version": 3
   },
   "file_extension": ".py",
   "mimetype": "text/x-python",
   "name": "python",
   "nbconvert_exporter": "python",
   "pygments_lexer": "ipython3",
   "version": "3.8.5"
  },
  "toc": {
   "base_numbering": 1,
   "nav_menu": {},
   "number_sections": false,
   "sideBar": true,
   "skip_h1_title": true,
   "title_cell": "Table of Contents",
   "title_sidebar": "Contents",
   "toc_cell": false,
   "toc_position": {},
   "toc_section_display": true,
   "toc_window_display": false
  },
  "varInspector": {
   "cols": {
    "lenName": 16,
    "lenType": 16,
    "lenVar": 40
   },
   "kernels_config": {
    "python": {
     "delete_cmd_postfix": "",
     "delete_cmd_prefix": "del ",
     "library": "var_list.py",
     "varRefreshCmd": "print(var_dic_list())"
    },
    "r": {
     "delete_cmd_postfix": ") ",
     "delete_cmd_prefix": "rm(",
     "library": "var_list.r",
     "varRefreshCmd": "cat(var_dic_list()) "
    }
   },
   "position": {
    "height": "144px",
    "left": "2190px",
    "right": "20px",
    "top": "119px",
    "width": "350px"
   },
   "types_to_exclude": [
    "module",
    "function",
    "builtin_function_or_method",
    "instance",
    "_Feature"
   ],
   "window_display": false
  }
 },
 "nbformat": 4,
 "nbformat_minor": 4
}
